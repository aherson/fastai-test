{
 "cells": [
  {
   "cell_type": "code",
   "execution_count": 1,
   "metadata": {},
   "outputs": [],
   "source": [
    "#https://pytorch.org/tutorials/beginner/blitz/neural_networks_tutorial.html#sphx-glr-beginner-blitz-neural-networks-tutorial-py\n",
    "#Special thanks to Balint"
   ]
  },
  {
   "cell_type": "code",
   "execution_count": 2,
   "metadata": {},
   "outputs": [],
   "source": [
    "#hide\n",
    "!pip install -Uqq fastbook\n",
    "import fastbook\n",
    "fastbook.setup_book()"
   ]
  },
  {
   "cell_type": "code",
   "execution_count": 3,
   "metadata": {},
   "outputs": [],
   "source": [
    "#hide\n",
    "from fastai.vision.all import *\n",
    "from fastbook import *\n",
    "import os\n",
    "\n",
    "matplotlib.rc('image', cmap='Greys')"
   ]
  },
  {
   "cell_type": "code",
   "execution_count": 4,
   "metadata": {},
   "outputs": [],
   "source": [
    "path = untar_data(URLs.MNIST)"
   ]
  },
  {
   "cell_type": "code",
   "execution_count": 5,
   "metadata": {},
   "outputs": [
    {
     "data": {
      "text/plain": [
       "Path('/home/sjmec1/.fastai/data/mnist_png')"
      ]
     },
     "execution_count": 5,
     "metadata": {},
     "output_type": "execute_result"
    }
   ],
   "source": [
    "path"
   ]
  },
  {
   "cell_type": "code",
   "execution_count": 6,
   "metadata": {},
   "outputs": [],
   "source": [
    "#hide\n",
    "Path.BASE_PATH = path"
   ]
  },
  {
   "cell_type": "code",
   "execution_count": 7,
   "metadata": {},
   "outputs": [
    {
     "data": {
      "text/plain": [
       "(#3) [Path('export.pkl'),Path('testing'),Path('training')]"
      ]
     },
     "execution_count": 7,
     "metadata": {},
     "output_type": "execute_result"
    }
   ],
   "source": [
    "path.ls()"
   ]
  },
  {
   "cell_type": "markdown",
   "metadata": {},
   "source": [
    "## Putting It All Together"
   ]
  },
  {
   "cell_type": "code",
   "execution_count": 8,
   "metadata": {},
   "outputs": [],
   "source": [
    "def get_data(dirname,x):\n",
    "    targetDir = path/dirname/x\n",
    "    targetImages = targetDir.ls().sorted()\n",
    "    targetTensors = [tensor(Image.open(o)) for o in targetImages]\n",
    "    targetStacked = torch.stack(targetTensors).float()/255\n",
    "    return targetStacked"
   ]
  },
  {
   "cell_type": "code",
   "execution_count": 9,
   "metadata": {},
   "outputs": [],
   "source": [
    "def get_dataset_len(dirname,x):\n",
    "    return len((path/dirname/x).ls())"
   ]
  },
  {
   "cell_type": "code",
   "execution_count": 10,
   "metadata": {},
   "outputs": [],
   "source": [
    "train_x = torch.cat([get_data(\"training\",\"0\"), \n",
    "                     get_data(\"training\",\"1\"),\n",
    "                     get_data(\"training\",\"2\"), \n",
    "                     get_data(\"training\",\"3\"),\n",
    "                     get_data(\"training\",\"4\"), \n",
    "                     get_data(\"training\",\"5\"),\n",
    "                     get_data(\"training\",\"6\"), \n",
    "                     get_data(\"training\",\"7\"),\n",
    "                     get_data(\"training\",\"8\"), \n",
    "                     get_data(\"training\",\"9\")]).view(-1, 28*28)   "
   ]
  },
  {
   "cell_type": "code",
   "execution_count": 11,
   "metadata": {},
   "outputs": [],
   "source": [
    "train_y = tensor([1]*get_dataset_len(\"training\",\"0\") + \n",
    "                  [0]*get_dataset_len(\"training\",\"1\") +\n",
    "                  [0]*get_dataset_len(\"training\",\"2\") +\n",
    "                  [0]*get_dataset_len(\"training\",\"3\") +\n",
    "                  [0]*get_dataset_len(\"training\",\"4\") +\n",
    "                  [0]*get_dataset_len(\"training\",\"5\") +\n",
    "                  [0]*get_dataset_len(\"training\",\"6\") +\n",
    "                  [0]*get_dataset_len(\"training\",\"7\") + \n",
    "                  [0]*get_dataset_len(\"training\",\"8\") +\n",
    "                  [0]*get_dataset_len(\"training\",\"9\")).unsqueeze(1) \n",
    "train_y = torch.cat((train_y,\n",
    "           tensor([0]*get_dataset_len(\"training\",\"0\") + \n",
    "                  [1]*get_dataset_len(\"training\",\"1\") +\n",
    "                  [0]*get_dataset_len(\"training\",\"2\") +\n",
    "                  [0]*get_dataset_len(\"training\",\"3\") +\n",
    "                  [0]*get_dataset_len(\"training\",\"4\") +\n",
    "                  [0]*get_dataset_len(\"training\",\"5\") +\n",
    "                  [0]*get_dataset_len(\"training\",\"6\") +\n",
    "                  [0]*get_dataset_len(\"training\",\"7\") + \n",
    "                  [0]*get_dataset_len(\"training\",\"8\") +\n",
    "                  [0]*get_dataset_len(\"training\",\"9\")).unsqueeze(1)),1)\n",
    "train_y = torch.cat((train_y,\n",
    "           tensor([0]*get_dataset_len(\"training\",\"0\") + \n",
    "                  [0]*get_dataset_len(\"training\",\"1\") +\n",
    "                  [1]*get_dataset_len(\"training\",\"2\") +\n",
    "                  [0]*get_dataset_len(\"training\",\"3\") +\n",
    "                  [0]*get_dataset_len(\"training\",\"4\") +\n",
    "                  [0]*get_dataset_len(\"training\",\"5\") +\n",
    "                  [0]*get_dataset_len(\"training\",\"6\") +\n",
    "                  [0]*get_dataset_len(\"training\",\"7\") + \n",
    "                  [0]*get_dataset_len(\"training\",\"8\") +\n",
    "                  [0]*get_dataset_len(\"training\",\"9\")).unsqueeze(1)),1)\n",
    "train_y = torch.cat((train_y,\n",
    "           tensor([0]*get_dataset_len(\"training\",\"0\") + \n",
    "                  [0]*get_dataset_len(\"training\",\"1\") +\n",
    "                  [0]*get_dataset_len(\"training\",\"2\") +\n",
    "                  [1]*get_dataset_len(\"training\",\"3\") +\n",
    "                  [0]*get_dataset_len(\"training\",\"4\") +\n",
    "                  [0]*get_dataset_len(\"training\",\"5\") +\n",
    "                  [0]*get_dataset_len(\"training\",\"6\") +\n",
    "                  [0]*get_dataset_len(\"training\",\"7\") + \n",
    "                  [0]*get_dataset_len(\"training\",\"8\") +\n",
    "                  [0]*get_dataset_len(\"training\",\"9\")).unsqueeze(1)),1)\n",
    "train_y = torch.cat((train_y,\n",
    "           tensor([0]*get_dataset_len(\"training\",\"0\") + \n",
    "                  [0]*get_dataset_len(\"training\",\"1\") +\n",
    "                  [0]*get_dataset_len(\"training\",\"2\") +\n",
    "                  [0]*get_dataset_len(\"training\",\"3\") +\n",
    "                  [1]*get_dataset_len(\"training\",\"4\") +\n",
    "                  [0]*get_dataset_len(\"training\",\"5\") +\n",
    "                  [0]*get_dataset_len(\"training\",\"6\") +\n",
    "                  [0]*get_dataset_len(\"training\",\"7\") + \n",
    "                  [0]*get_dataset_len(\"training\",\"8\") +\n",
    "                  [0]*get_dataset_len(\"training\",\"9\")).unsqueeze(1)),1)\n",
    "train_y = torch.cat((train_y,\n",
    "           tensor([0]*get_dataset_len(\"training\",\"0\") + \n",
    "                  [0]*get_dataset_len(\"training\",\"1\") +\n",
    "                  [0]*get_dataset_len(\"training\",\"2\") +\n",
    "                  [0]*get_dataset_len(\"training\",\"3\") +\n",
    "                  [0]*get_dataset_len(\"training\",\"4\") +\n",
    "                  [1]*get_dataset_len(\"training\",\"5\") +\n",
    "                  [0]*get_dataset_len(\"training\",\"6\") +\n",
    "                  [0]*get_dataset_len(\"training\",\"7\") + \n",
    "                  [0]*get_dataset_len(\"training\",\"8\") +\n",
    "                  [0]*get_dataset_len(\"training\",\"9\")).unsqueeze(1)),1)\n",
    "train_y = torch.cat((train_y,\n",
    "           tensor([0]*get_dataset_len(\"training\",\"0\") + \n",
    "                  [0]*get_dataset_len(\"training\",\"1\") +\n",
    "                  [0]*get_dataset_len(\"training\",\"2\") +\n",
    "                  [0]*get_dataset_len(\"training\",\"3\") +\n",
    "                  [0]*get_dataset_len(\"training\",\"4\") +\n",
    "                  [0]*get_dataset_len(\"training\",\"5\") +\n",
    "                  [1]*get_dataset_len(\"training\",\"6\") +\n",
    "                  [0]*get_dataset_len(\"training\",\"7\") + \n",
    "                  [0]*get_dataset_len(\"training\",\"8\") +\n",
    "                  [0]*get_dataset_len(\"training\",\"9\")).unsqueeze(1)),1)\n",
    "train_y = torch.cat((train_y,\n",
    "           tensor([0]*get_dataset_len(\"training\",\"0\") + \n",
    "                  [0]*get_dataset_len(\"training\",\"1\") +\n",
    "                  [0]*get_dataset_len(\"training\",\"2\") +\n",
    "                  [0]*get_dataset_len(\"training\",\"3\") +\n",
    "                  [0]*get_dataset_len(\"training\",\"4\") +\n",
    "                  [0]*get_dataset_len(\"training\",\"5\") +\n",
    "                  [0]*get_dataset_len(\"training\",\"6\") +\n",
    "                  [1]*get_dataset_len(\"training\",\"7\") + \n",
    "                  [0]*get_dataset_len(\"training\",\"8\") +\n",
    "                  [0]*get_dataset_len(\"training\",\"9\")).unsqueeze(1)),1)\n",
    "train_y = torch.cat((train_y,\n",
    "           tensor([0]*get_dataset_len(\"training\",\"0\") + \n",
    "                  [0]*get_dataset_len(\"training\",\"1\") +\n",
    "                  [0]*get_dataset_len(\"training\",\"2\") +\n",
    "                  [0]*get_dataset_len(\"training\",\"3\") +\n",
    "                  [0]*get_dataset_len(\"training\",\"4\") +\n",
    "                  [0]*get_dataset_len(\"training\",\"5\") +\n",
    "                  [0]*get_dataset_len(\"training\",\"6\") +\n",
    "                  [0]*get_dataset_len(\"training\",\"7\") + \n",
    "                  [1]*get_dataset_len(\"training\",\"8\") +\n",
    "                  [0]*get_dataset_len(\"training\",\"9\")).unsqueeze(1)),1)\n",
    "train_y = torch.cat((train_y,\n",
    "           tensor([0]*get_dataset_len(\"training\",\"0\") + \n",
    "                  [0]*get_dataset_len(\"training\",\"1\") +\n",
    "                  [0]*get_dataset_len(\"training\",\"2\") +\n",
    "                  [0]*get_dataset_len(\"training\",\"3\") +\n",
    "                  [0]*get_dataset_len(\"training\",\"4\") +\n",
    "                  [0]*get_dataset_len(\"training\",\"5\") +\n",
    "                  [0]*get_dataset_len(\"training\",\"6\") +\n",
    "                  [0]*get_dataset_len(\"training\",\"7\") + \n",
    "                  [0]*get_dataset_len(\"training\",\"8\") +\n",
    "                  [1]*get_dataset_len(\"training\",\"9\")).unsqueeze(1)),1)"
   ]
  },
  {
   "cell_type": "code",
   "execution_count": 12,
   "metadata": {
    "scrolled": true
   },
   "outputs": [
    {
     "data": {
      "text/plain": [
       "(torch.Size([60000, 784]), torch.Size([60000, 10]))"
      ]
     },
     "execution_count": 12,
     "metadata": {},
     "output_type": "execute_result"
    }
   ],
   "source": [
    "train_x.shape,train_y.shape"
   ]
  },
  {
   "cell_type": "code",
   "execution_count": 13,
   "metadata": {},
   "outputs": [],
   "source": [
    "valid_x = torch.cat([get_data(\"testing\",\"0\"), \n",
    "                     get_data(\"testing\",\"1\"),\n",
    "                     get_data(\"testing\",\"2\"), \n",
    "                     get_data(\"testing\",\"3\"),\n",
    "                     get_data(\"testing\",\"4\"), \n",
    "                     get_data(\"testing\",\"5\"),\n",
    "                     get_data(\"testing\",\"6\"), \n",
    "                     get_data(\"testing\",\"7\"),\n",
    "                     get_data(\"testing\",\"8\"), \n",
    "                     get_data(\"testing\",\"9\")]).view(-1, 28*28)   "
   ]
  },
  {
   "cell_type": "code",
   "execution_count": 14,
   "metadata": {},
   "outputs": [],
   "source": [
    "valid_y = tensor([1]*get_dataset_len(\"testing\",\"0\") + \n",
    "                  [0]*get_dataset_len(\"testing\",\"1\") +\n",
    "                  [0]*get_dataset_len(\"testing\",\"2\") +\n",
    "                  [0]*get_dataset_len(\"testing\",\"3\") +\n",
    "                  [0]*get_dataset_len(\"testing\",\"4\") +\n",
    "                  [0]*get_dataset_len(\"testing\",\"5\") +\n",
    "                  [0]*get_dataset_len(\"testing\",\"6\") +\n",
    "                  [0]*get_dataset_len(\"testing\",\"7\") + \n",
    "                  [0]*get_dataset_len(\"testing\",\"8\") +\n",
    "                  [0]*get_dataset_len(\"testing\",\"9\")).unsqueeze(1) \n",
    "valid_y = torch.cat((valid_y,\n",
    "           tensor([0]*get_dataset_len(\"testing\",\"0\") + \n",
    "                  [1]*get_dataset_len(\"testing\",\"1\") +\n",
    "                  [0]*get_dataset_len(\"testing\",\"2\") +\n",
    "                  [0]*get_dataset_len(\"testing\",\"3\") +\n",
    "                  [0]*get_dataset_len(\"testing\",\"4\") +\n",
    "                  [0]*get_dataset_len(\"testing\",\"5\") +\n",
    "                  [0]*get_dataset_len(\"testing\",\"6\") +\n",
    "                  [0]*get_dataset_len(\"testing\",\"7\") + \n",
    "                  [0]*get_dataset_len(\"testing\",\"8\") +\n",
    "                  [0]*get_dataset_len(\"testing\",\"9\")).unsqueeze(1)),1)\n",
    "valid_y = torch.cat((valid_y,\n",
    "           tensor([0]*get_dataset_len(\"testing\",\"0\") + \n",
    "                  [0]*get_dataset_len(\"testing\",\"1\") +\n",
    "                  [1]*get_dataset_len(\"testing\",\"2\") +\n",
    "                  [0]*get_dataset_len(\"testing\",\"3\") +\n",
    "                  [0]*get_dataset_len(\"testing\",\"4\") +\n",
    "                  [0]*get_dataset_len(\"testing\",\"5\") +\n",
    "                  [0]*get_dataset_len(\"testing\",\"6\") +\n",
    "                  [0]*get_dataset_len(\"testing\",\"7\") + \n",
    "                  [0]*get_dataset_len(\"testing\",\"8\") +\n",
    "                  [0]*get_dataset_len(\"testing\",\"9\")).unsqueeze(1)),1)\n",
    "valid_y = torch.cat((valid_y,\n",
    "           tensor([0]*get_dataset_len(\"testing\",\"0\") + \n",
    "                  [0]*get_dataset_len(\"testing\",\"1\") +\n",
    "                  [0]*get_dataset_len(\"testing\",\"2\") +\n",
    "                  [1]*get_dataset_len(\"testing\",\"3\") +\n",
    "                  [0]*get_dataset_len(\"testing\",\"4\") +\n",
    "                  [0]*get_dataset_len(\"testing\",\"5\") +\n",
    "                  [0]*get_dataset_len(\"testing\",\"6\") +\n",
    "                  [0]*get_dataset_len(\"testing\",\"7\") + \n",
    "                  [0]*get_dataset_len(\"testing\",\"8\") +\n",
    "                  [0]*get_dataset_len(\"testing\",\"9\")).unsqueeze(1)),1)\n",
    "valid_y = torch.cat((valid_y,\n",
    "           tensor([0]*get_dataset_len(\"testing\",\"0\") + \n",
    "                  [0]*get_dataset_len(\"testing\",\"1\") +\n",
    "                  [0]*get_dataset_len(\"testing\",\"2\") +\n",
    "                  [0]*get_dataset_len(\"testing\",\"3\") +\n",
    "                  [1]*get_dataset_len(\"testing\",\"4\") +\n",
    "                  [0]*get_dataset_len(\"testing\",\"5\") +\n",
    "                  [0]*get_dataset_len(\"testing\",\"6\") +\n",
    "                  [0]*get_dataset_len(\"testing\",\"7\") + \n",
    "                  [0]*get_dataset_len(\"testing\",\"8\") +\n",
    "                  [0]*get_dataset_len(\"testing\",\"9\")).unsqueeze(1)),1)\n",
    "valid_y = torch.cat((valid_y,\n",
    "           tensor([0]*get_dataset_len(\"testing\",\"0\") + \n",
    "                  [0]*get_dataset_len(\"testing\",\"1\") +\n",
    "                  [0]*get_dataset_len(\"testing\",\"2\") +\n",
    "                  [0]*get_dataset_len(\"testing\",\"3\") +\n",
    "                  [0]*get_dataset_len(\"testing\",\"4\") +\n",
    "                  [1]*get_dataset_len(\"testing\",\"5\") +\n",
    "                  [0]*get_dataset_len(\"testing\",\"6\") +\n",
    "                  [0]*get_dataset_len(\"testing\",\"7\") + \n",
    "                  [0]*get_dataset_len(\"testing\",\"8\") +\n",
    "                  [0]*get_dataset_len(\"testing\",\"9\")).unsqueeze(1)),1)\n",
    "valid_y = torch.cat((valid_y,\n",
    "           tensor([0]*get_dataset_len(\"testing\",\"0\") + \n",
    "                  [0]*get_dataset_len(\"testing\",\"1\") +\n",
    "                  [0]*get_dataset_len(\"testing\",\"2\") +\n",
    "                  [0]*get_dataset_len(\"testing\",\"3\") +\n",
    "                  [0]*get_dataset_len(\"testing\",\"4\") +\n",
    "                  [0]*get_dataset_len(\"testing\",\"5\") +\n",
    "                  [1]*get_dataset_len(\"testing\",\"6\") +\n",
    "                  [0]*get_dataset_len(\"testing\",\"7\") + \n",
    "                  [0]*get_dataset_len(\"testing\",\"8\") +\n",
    "                  [0]*get_dataset_len(\"testing\",\"9\")).unsqueeze(1)),1)\n",
    "valid_y = torch.cat((valid_y,\n",
    "           tensor([0]*get_dataset_len(\"testing\",\"0\") + \n",
    "                  [0]*get_dataset_len(\"testing\",\"1\") +\n",
    "                  [0]*get_dataset_len(\"testing\",\"2\") +\n",
    "                  [0]*get_dataset_len(\"testing\",\"3\") +\n",
    "                  [0]*get_dataset_len(\"testing\",\"4\") +\n",
    "                  [0]*get_dataset_len(\"testing\",\"5\") +\n",
    "                  [0]*get_dataset_len(\"testing\",\"6\") +\n",
    "                  [1]*get_dataset_len(\"testing\",\"7\") + \n",
    "                  [0]*get_dataset_len(\"testing\",\"8\") +\n",
    "                  [0]*get_dataset_len(\"testing\",\"9\")).unsqueeze(1)),1)\n",
    "valid_y = torch.cat((valid_y,\n",
    "           tensor([0]*get_dataset_len(\"testing\",\"0\") + \n",
    "                  [0]*get_dataset_len(\"testing\",\"1\") +\n",
    "                  [0]*get_dataset_len(\"testing\",\"2\") +\n",
    "                  [0]*get_dataset_len(\"testing\",\"3\") +\n",
    "                  [0]*get_dataset_len(\"testing\",\"4\") +\n",
    "                  [0]*get_dataset_len(\"testing\",\"5\") +\n",
    "                  [0]*get_dataset_len(\"testing\",\"6\") +\n",
    "                  [0]*get_dataset_len(\"testing\",\"7\") + \n",
    "                  [1]*get_dataset_len(\"testing\",\"8\") +\n",
    "                  [0]*get_dataset_len(\"testing\",\"9\")).unsqueeze(1)),1)\n",
    "valid_y = torch.cat((valid_y,\n",
    "           tensor([0]*get_dataset_len(\"testing\",\"0\") + \n",
    "                  [0]*get_dataset_len(\"testing\",\"1\") +\n",
    "                  [0]*get_dataset_len(\"testing\",\"2\") +\n",
    "                  [0]*get_dataset_len(\"testing\",\"3\") +\n",
    "                  [0]*get_dataset_len(\"testing\",\"4\") +\n",
    "                  [0]*get_dataset_len(\"testing\",\"5\") +\n",
    "                  [0]*get_dataset_len(\"testing\",\"6\") +\n",
    "                  [0]*get_dataset_len(\"testing\",\"7\") + \n",
    "                  [0]*get_dataset_len(\"testing\",\"8\") +\n",
    "                  [1]*get_dataset_len(\"testing\",\"9\")).unsqueeze(1)),1)"
   ]
  },
  {
   "cell_type": "code",
   "execution_count": 15,
   "metadata": {
    "scrolled": true
   },
   "outputs": [
    {
     "data": {
      "text/plain": [
       "(torch.Size([10000, 784]), torch.Size([10000, 10]))"
      ]
     },
     "execution_count": 15,
     "metadata": {},
     "output_type": "execute_result"
    }
   ],
   "source": [
    "valid_x.shape,valid_y.shape"
   ]
  },
  {
   "cell_type": "code",
   "execution_count": 73,
   "metadata": {},
   "outputs": [],
   "source": [
    "### Simple Net"
   ]
  },
  {
   "cell_type": "code",
   "execution_count": 16,
   "metadata": {},
   "outputs": [],
   "source": [
    "def init_params(size, std=1.0): return (torch.randn(size)*std).requires_grad_()"
   ]
  },
  {
   "cell_type": "code",
   "execution_count": 25,
   "metadata": {},
   "outputs": [],
   "source": [
    "def mnist_loss(predictions, targets):\n",
    "    #predictions = predictions.sigmoid()\n",
    "    #return torch.where(targets==1, 1-predictions, predictions).mean()\n",
    "    return torch.where(targets==1, 1-predictions, predictions).mean()"
   ]
  },
  {
   "cell_type": "code",
   "execution_count": 58,
   "metadata": {},
   "outputs": [],
   "source": [
    "def pick_a_file(n):\n",
    "    if n == 0:   x = '/home/sjmec1/.fastai/data/mnist_png/testing/0/1001.png'\n",
    "    elif n == 1: x = '/home/sjmec1/.fastai/data/mnist_png/testing/1/1004.png'\n",
    "    elif n == 2: x = '/home/sjmec1/.fastai/data/mnist_png/testing/2/1002.png'\n",
    "    elif n == 3: x = '/home/sjmec1/.fastai/data/mnist_png/testing/3/1020.png'\n",
    "    elif n == 4: x = '/home/sjmec1/.fastai/data/mnist_png/testing/4/1010.png'\n",
    "    elif n == 5: x = '/home/sjmec1/.fastai/data/mnist_png/testing/5/1003.png'\n",
    "    elif n == 6: x = '/home/sjmec1/.fastai/data/mnist_png/testing/6/100.png'\n",
    "    elif n == 7: x = '/home/sjmec1/.fastai/data/mnist_png/testing/7/0.png'\n",
    "    elif n == 8: x = '/home/sjmec1/.fastai/data/mnist_png/testing/8/1007.png'\n",
    "    elif n == 9: x = '/home/sjmec1/.fastai/data/mnist_png/testing/9/1000.png'\n",
    " \n",
    "    return x"
   ]
  },
  {
   "cell_type": "code",
   "execution_count": 27,
   "metadata": {},
   "outputs": [],
   "source": [
    "simple_net = nn.Sequential(\n",
    "    nn.Linear(28*28,30),\n",
    "    nn.ReLU(),\n",
    "    nn.Linear(30,10),\n",
    "    nn.Softmax(dim=1)\n",
    ")"
   ]
  },
  {
   "cell_type": "code",
   "execution_count": 60,
   "metadata": {},
   "outputs": [],
   "source": [
    "def batch_accuracy(xb, yb):\n",
    "    #preds = xb.sigmoid()\n",
    "    #correct = (preds>0.5) == yb\n",
    "    #return correct.float().mean()\n",
    "    correct = torch.argmax(xb, dim=1) == torch.argmax(yb, dim=1)\n",
    "    return correct.float().mean()"
   ]
  },
  {
   "cell_type": "code",
   "execution_count": 65,
   "metadata": {
    "scrolled": true
   },
   "outputs": [
    {
     "data": {
      "text/html": [],
      "text/plain": [
       "<IPython.core.display.HTML object>"
      ]
     },
     "metadata": {},
     "output_type": "display_data"
    },
    {
     "data": {
      "text/plain": [
       "SuggestedLRs(lr_min=5.754399462603033e-05, lr_steep=1.0964781722577754e-06)"
      ]
     },
     "execution_count": 65,
     "metadata": {},
     "output_type": "execute_result"
    },
    {
     "data": {
      "image/png": "[encoded data removed]",
      "text/plain": [
       "<Figure size 432x288 with 1 Axes>"
      ]
     },
     "metadata": {
      "needs_background": "light"
     },
     "output_type": "display_data"
    }
   ],
   "source": [
    "dset = list(zip(train_x,train_y))\n",
    "valid_dset = list(zip(valid_x,valid_y))\n",
    "\n",
    "dl = DataLoader(dset, batch_size=256)\n",
    "valid_dl = DataLoader(valid_dset, batch_size=256)\n",
    "dls = DataLoaders(dl, valid_dl)\n",
    "\n",
    "w1 = init_params((28*28,30))\n",
    "b1 = init_params(30)\n",
    "w2 = init_params((30,10))\n",
    "b2 = init_params(10)\n",
    "params = w1,b1,w2,b2\n",
    "\n",
    "learn = Learner(dls, simple_net, opt_func=SGD,\n",
    "                loss_func=mnist_loss, metrics=batch_accuracy)\n",
    "learn.lr_find()"
   ]
  },
  {
   "cell_type": "code",
   "execution_count": 66,
   "metadata": {},
   "outputs": [
    {
     "data": {
      "text/html": [
       "<table border=\"1\" class=\"dataframe\">\n",
       "  <thead>\n",
       "    <tr style=\"text-align: left;\">\n",
       "      <th>epoch</th>\n",
       "      <th>train_loss</th>\n",
       "      <th>valid_loss</th>\n",
       "      <th>batch_accuracy</th>\n",
       "      <th>time</th>\n",
       "    </tr>\n",
       "  </thead>\n",
       "  <tbody>\n",
       "    <tr>\n",
       "      <td>0</td>\n",
       "      <td>0.065584</td>\n",
       "      <td>0.100056</td>\n",
       "      <td>0.509000</td>\n",
       "      <td>00:01</td>\n",
       "    </tr>\n",
       "    <tr>\n",
       "      <td>1</td>\n",
       "      <td>0.065126</td>\n",
       "      <td>0.097372</td>\n",
       "      <td>0.519900</td>\n",
       "      <td>00:01</td>\n",
       "    </tr>\n",
       "    <tr>\n",
       "      <td>2</td>\n",
       "      <td>0.065000</td>\n",
       "      <td>0.095899</td>\n",
       "      <td>0.526600</td>\n",
       "      <td>00:01</td>\n",
       "    </tr>\n",
       "    <tr>\n",
       "      <td>3</td>\n",
       "      <td>0.064967</td>\n",
       "      <td>0.094701</td>\n",
       "      <td>0.531600</td>\n",
       "      <td>00:01</td>\n",
       "    </tr>\n",
       "    <tr>\n",
       "      <td>4</td>\n",
       "      <td>0.065005</td>\n",
       "      <td>0.093518</td>\n",
       "      <td>0.538300</td>\n",
       "      <td>00:01</td>\n",
       "    </tr>\n",
       "    <tr>\n",
       "      <td>5</td>\n",
       "      <td>0.065129</td>\n",
       "      <td>0.092425</td>\n",
       "      <td>0.543700</td>\n",
       "      <td>00:01</td>\n",
       "    </tr>\n",
       "    <tr>\n",
       "      <td>6</td>\n",
       "      <td>0.065273</td>\n",
       "      <td>0.091485</td>\n",
       "      <td>0.547700</td>\n",
       "      <td>00:01</td>\n",
       "    </tr>\n",
       "    <tr>\n",
       "      <td>7</td>\n",
       "      <td>0.065440</td>\n",
       "      <td>0.090671</td>\n",
       "      <td>0.550500</td>\n",
       "      <td>00:01</td>\n",
       "    </tr>\n",
       "    <tr>\n",
       "      <td>8</td>\n",
       "      <td>0.065580</td>\n",
       "      <td>0.089871</td>\n",
       "      <td>0.554600</td>\n",
       "      <td>00:01</td>\n",
       "    </tr>\n",
       "    <tr>\n",
       "      <td>9</td>\n",
       "      <td>0.065689</td>\n",
       "      <td>0.089082</td>\n",
       "      <td>0.558200</td>\n",
       "      <td>00:01</td>\n",
       "    </tr>\n",
       "  </tbody>\n",
       "</table>"
      ],
      "text/plain": [
       "<IPython.core.display.HTML object>"
      ]
     },
     "metadata": {},
     "output_type": "display_data"
    }
   ],
   "source": [
    "learn.fit(10,1)"
   ]
  },
  {
   "cell_type": "code",
   "execution_count": 72,
   "metadata": {},
   "outputs": [
    {
     "name": "stdout",
     "output_type": "stream",
     "text": [
      "Truth: 0  Detected: 0 Filename: 1001.png\n",
      "Truth: 1  Detected: 1 Filename: 1004.png\n",
      "Truth: 2  Detected: 2 Filename: 1002.png\n",
      "Truth: 3  Detected: 3 Filename: 1020.png\n",
      "Truth: 4  Detected: 9 Filename: 1010.png\n",
      "Truth: 5  Detected: 3 Filename: 1003.png\n",
      "Truth: 6  Detected: 6 Filename: 100.png\n",
      "Truth: 7  Detected: 7 Filename: 0.png\n",
      "Truth: 8  Detected: 9 Filename: 1007.png\n",
      "Truth: 9  Detected: 9 Filename: 1000.png\n"
     ]
    }
   ],
   "source": [
    "for i in range (10):\n",
    "\n",
    "    f=pick_a_file(i);\n",
    "    targetTensors = tensor(Image.open(f)).float()/255\n",
    "    targetTensorsv=targetTensors.view(-1,28*28);\n",
    "    learn.model.eval()\n",
    "    res=learn.model(targetTensorsv)\n",
    "    head, tail = os.path.split(f)\n",
    "    #print(torch.argmax(res))\n",
    "    buf = \"%s\" % torch.argmax(res);\n",
    "    print(\"Truth:\", head[-1],' Detected:', buf[7], \"Filename:\", tail)      "
   ]
  },
  {
   "cell_type": "markdown",
   "metadata": {},
   "source": [
    "### resnet-18"
   ]
  },
  {
   "cell_type": "code",
   "execution_count": null,
   "metadata": {},
   "outputs": [],
   "source": [
    "dlsEasy = ImageDataLoaders.from_folder(path, train=\"training\", valid=\"testing\")"
   ]
  },
  {
   "cell_type": "code",
   "execution_count": null,
   "metadata": {},
   "outputs": [],
   "source": [
    "learnEasy = cnn_learner(dlsEasy, resnet18, pretrained=False,\n",
    "               loss_func=F.cross_entropy, metrics=accuracy)"
   ]
  },
  {
   "cell_type": "code",
   "execution_count": null,
   "metadata": {},
   "outputs": [],
   "source": [
    "learnEasy.fit_one_cycle(1, 0.1)"
   ]
  },
  {
   "cell_type": "code",
   "execution_count": null,
   "metadata": {},
   "outputs": [],
   "source": [
    "for i in range (10):\n",
    "    f=pick_a_file(i);\n",
    "    targetTensors = tensor(Image.open(f)).float()/255\n",
    "    targetTensorsRGB=targetTensors.repeat(3, 1, 1)\n",
    "    learnEasy.model.eval()\n",
    "    res=learnEasy.model(targetTensorsRGB.view(1,3,28,28).cuda())\n",
    "    head, tail = os.path.split(f)\n",
    "    #print(torch.argmax(res))\n",
    "    buf = \"%s\" % torch.argmax(res);\n",
    "    print(\"Truth:\", head[-1],' Detected:', buf[7], \"Filename:\", tail)\n"
   ]
  },
  {
   "cell_type": "markdown",
   "metadata": {},
   "source": [
    "## Jargon Recap"
   ]
  },
  {
   "cell_type": "markdown",
   "metadata": {},
   "source": [
    "## Questionnaire"
   ]
  },
  {
   "cell_type": "markdown",
   "metadata": {},
   "source": [
    "1. How is a grayscale image represented on a computer? How about a color image?\n",
    "1. How are the files and folders in the `MNIST_SAMPLE` dataset structured? Why?\n",
    "1. Explain how the \"pixel similarity\" approach to classifying digits works.\n",
    "1. What is a list comprehension? Create one now that selects odd numbers from a list and doubles them.\n",
    "1. What is a \"rank-3 tensor\"?\n",
    "1. What is the difference between tensor rank and shape? How do you get the rank from the shape?\n",
    "1. What are RMSE and L1 norm?\n",
    "1. How can you apply a calculation on thousands of numbers at once, many thousands of times faster than a Python loop?\n",
    "1. Create a 3×3 tensor or array containing the numbers from 1 to 9. Double it. Select the bottom-right four numbers.\n",
    "1. What is broadcasting?\n",
    "1. Are metrics generally calculated using the training set, or the validation set? Why?\n",
    "1. What is SGD?\n",
    "1. Why does SGD use mini-batches?\n",
    "1. What are the seven steps in SGD for machine learning?\n",
    "1. How do we initialize the weights in a model?\n",
    "1. What is \"loss\"?\n",
    "1. Why can't we always use a high learning rate?\n",
    "1. What is a \"gradient\"?\n",
    "1. Do you need to know how to calculate gradients yourself?\n",
    "1. Why can't we use accuracy as a loss function?\n",
    "1. Draw the sigmoid function. What is special about its shape?\n",
    "1. What is the difference between a loss function and a metric?\n",
    "1. What is the function to calculate new weights using a learning rate?\n",
    "1. What does the `DataLoader` class do?\n",
    "1. Write pseudocode showing the basic steps taken in each epoch for SGD.\n",
    "1. Create a function that, if passed two arguments `[1,2,3,4]` and `'abcd'`, returns `[(1, 'a'), (2, 'b'), (3, 'c'), (4, 'd')]`. What is special about that output data structure?\n",
    "1. What does `view` do in PyTorch?\n",
    "1. What are the \"bias\" parameters in a neural network? Why do we need them?\n",
    "1. What does the `@` operator do in Python?\n",
    "1. What does the `backward` method do?\n",
    "1. Why do we have to zero the gradients?\n",
    "1. What information do we have to pass to `Learner`?\n",
    "1. Show Python or pseudocode for the basic steps of a training loop.\n",
    "1. What is \"ReLU\"? Draw a plot of it for values from `-2` to `+2`.\n",
    "1. What is an \"activation function\"?\n",
    "1. What's the difference between `F.relu` and `nn.ReLU`?\n",
    "1. The universal approximation theorem shows that any function can be approximated as closely as needed using just one nonlinearity. So why do we normally use more?"
   ]
  },
  {
   "cell_type": "markdown",
   "metadata": {},
   "source": [
    "### Further Research"
   ]
  },
  {
   "cell_type": "markdown",
   "metadata": {},
   "source": [
    "1. Create your own implementation of `Learner` from scratch, based on the training loop shown in this chapter.\n",
    "1. Complete all the steps in this chapter using the full MNIST datasets (that is, for all digits, not just 3s and 7s). This is a significant project and will take you quite a bit of time to complete! You'll need to do some of your own research to figure out how to overcome some obstacles you'll meet on the way."
   ]
  },
  {
   "cell_type": "code",
   "execution_count": null,
   "metadata": {},
   "outputs": [],
   "source": []
  }
 ],
 "metadata": {
  "jupytext": {
   "split_at_heading": true
  },
  "kernelspec": {
   "display_name": "Python 3",
   "language": "python",
   "name": "python3"
  },
  "language_info": {
   "codemirror_mode": {
    "name": "ipython",
    "version": 3
   },
   "file_extension": ".py",
   "mimetype": "text/x-python",
   "name": "python",
   "nbconvert_exporter": "python",
   "pygments_lexer": "ipython3",
   "version": "3.8.3"
  }
 },
 "nbformat": 4,
 "nbformat_minor": 4
}
